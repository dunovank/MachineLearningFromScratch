{
 "cells": [
  {
   "cell_type": "markdown",
   "metadata": {},
   "source": [
    "Now, after having taken a look at linear regression, it makes sense to also examine logistic regression.\n",
    "First, let's import some packages and generate data."
   ]
  },
  {
   "cell_type": "code",
   "execution_count": 1,
   "metadata": {},
   "outputs": [],
   "source": [
    "%matplotlib inline\n",
    "import scipy.stats as stats\n",
    "import numpy as np\n",
    "import pandas as pd\n",
    "import math\n",
    "import matplotlib.pyplot as plt\n",
    "import seaborn as sns\n",
    "plt.style.use('ggplot')"
   ]
  },
  {
   "cell_type": "code",
   "execution_count": 2,
   "metadata": {},
   "outputs": [],
   "source": [
    "X1_1 = pd.Series(np.random.randn(5))\n",
    "X1_2 = pd.Series(np.random.randn(5)+4)\n",
    "X1 = pd.concat([X1_1, X1_2]).reset_index(drop=True)\n",
    "X2 = pd.Series(np.random.randn(10))\n",
    "Y = pd.Series([0,0,0,0,0,1,1,1,1,1])"
   ]
  },
  {
   "cell_type": "code",
   "execution_count": 3,
   "metadata": {},
   "outputs": [],
   "source": [
    "data = pd.concat([X1, X2, Y], axis=1)\n",
    "data.columns= [\"X1\", \"X2\", \"Y\"]"
   ]
  },
  {
   "cell_type": "code",
   "execution_count": 4,
   "metadata": {},
   "outputs": [
    {
     "data": {
      "text/html": [
       "<div>\n",
       "<style scoped>\n",
       "    .dataframe tbody tr th:only-of-type {\n",
       "        vertical-align: middle;\n",
       "    }\n",
       "\n",
       "    .dataframe tbody tr th {\n",
       "        vertical-align: top;\n",
       "    }\n",
       "\n",
       "    .dataframe thead th {\n",
       "        text-align: right;\n",
       "    }\n",
       "</style>\n",
       "<table border=\"1\" class=\"dataframe\">\n",
       "  <thead>\n",
       "    <tr style=\"text-align: right;\">\n",
       "      <th></th>\n",
       "      <th>X1</th>\n",
       "      <th>X2</th>\n",
       "      <th>Y</th>\n",
       "    </tr>\n",
       "  </thead>\n",
       "  <tbody>\n",
       "    <tr>\n",
       "      <th>0</th>\n",
       "      <td>-0.919050</td>\n",
       "      <td>-0.813152</td>\n",
       "      <td>0</td>\n",
       "    </tr>\n",
       "    <tr>\n",
       "      <th>1</th>\n",
       "      <td>0.678458</td>\n",
       "      <td>-0.028664</td>\n",
       "      <td>0</td>\n",
       "    </tr>\n",
       "    <tr>\n",
       "      <th>2</th>\n",
       "      <td>-0.987853</td>\n",
       "      <td>0.524188</td>\n",
       "      <td>0</td>\n",
       "    </tr>\n",
       "    <tr>\n",
       "      <th>3</th>\n",
       "      <td>-1.614614</td>\n",
       "      <td>1.752247</td>\n",
       "      <td>0</td>\n",
       "    </tr>\n",
       "    <tr>\n",
       "      <th>4</th>\n",
       "      <td>0.250581</td>\n",
       "      <td>0.572468</td>\n",
       "      <td>0</td>\n",
       "    </tr>\n",
       "    <tr>\n",
       "      <th>5</th>\n",
       "      <td>4.419844</td>\n",
       "      <td>-0.205971</td>\n",
       "      <td>1</td>\n",
       "    </tr>\n",
       "    <tr>\n",
       "      <th>6</th>\n",
       "      <td>3.990395</td>\n",
       "      <td>0.077558</td>\n",
       "      <td>1</td>\n",
       "    </tr>\n",
       "    <tr>\n",
       "      <th>7</th>\n",
       "      <td>3.456785</td>\n",
       "      <td>-0.253241</td>\n",
       "      <td>1</td>\n",
       "    </tr>\n",
       "    <tr>\n",
       "      <th>8</th>\n",
       "      <td>4.112454</td>\n",
       "      <td>-0.262105</td>\n",
       "      <td>1</td>\n",
       "    </tr>\n",
       "    <tr>\n",
       "      <th>9</th>\n",
       "      <td>5.151400</td>\n",
       "      <td>0.181268</td>\n",
       "      <td>1</td>\n",
       "    </tr>\n",
       "  </tbody>\n",
       "</table>\n",
       "</div>"
      ],
      "text/plain": [
       "         X1        X2  Y\n",
       "0 -0.919050 -0.813152  0\n",
       "1  0.678458 -0.028664  0\n",
       "2 -0.987853  0.524188  0\n",
       "3 -1.614614  1.752247  0\n",
       "4  0.250581  0.572468  0\n",
       "5  4.419844 -0.205971  1\n",
       "6  3.990395  0.077558  1\n",
       "7  3.456785 -0.253241  1\n",
       "8  4.112454 -0.262105  1\n",
       "9  5.151400  0.181268  1"
      ]
     },
     "execution_count": 4,
     "metadata": {},
     "output_type": "execute_result"
    }
   ],
   "source": [
    "data"
   ]
  },
  {
   "cell_type": "markdown",
   "metadata": {},
   "source": [
    "Let's see if we can find a linear decision boundary "
   ]
  },
  {
   "cell_type": "code",
   "execution_count": 11,
   "metadata": {},
   "outputs": [
    {
     "data": {
      "text/plain": [
       "Text(0.5, 1.0, 'First Look at Data')"
      ]
     },
     "execution_count": 11,
     "metadata": {},
     "output_type": "execute_result"
    },
    {
     "data": {
      "text/plain": [
       "<Figure size 1440x1440 with 0 Axes>"
      ]
     },
     "metadata": {},
     "output_type": "display_data"
    },
    {
     "data": {
      "image/png": "[encoded data removed]",
      "text/plain": [
       "<Figure size 402.375x360 with 1 Axes>"
      ]
     },
     "metadata": {},
     "output_type": "display_data"
    }
   ],
   "source": [
    "\n",
    "sns.lmplot(x=\"X1\", y=\"X2\", data=data, hue=\"Y\", fit_reg=False)\n",
    "plt.title('First Look at Data')"
   ]
  },
  {
   "cell_type": "markdown",
   "metadata": {},
   "source": [
    "As evident from our plot, we can fit a linear decision boundary. Therefore, a logistic regression might be a good fit."
   ]
  },
  {
   "cell_type": "markdown",
   "metadata": {},
   "source": [
    "Our model will have two coefficients, $X_1$ and $X_2$. Unlike in our linear regression, we can't just use $Y = b_0 + b_1*X_1+ b_2*X_2$. Instead, we are going to have to transform our output into probabilities using the logistic function (sigmoid function): $P(Y=1|X=x) = 1/1+exp(-b_0 + b_1*X_1+ b_2*X_2)$"
   ]
  },
  {
   "cell_type": "markdown",
   "metadata": {},
   "source": [
    "### Finding Coefficients"
   ]
  },
  {
   "cell_type": "markdown",
   "metadata": {},
   "source": [
    "#### Make Prediction"
   ]
  },
  {
   "cell_type": "markdown",
   "metadata": {},
   "source": [
    "To find our coefficients, we can again rely on stochastic gradient descent"
   ]
  },
  {
   "cell_type": "code",
   "execution_count": 30,
   "metadata": {},
   "outputs": [],
   "source": [
    "#let's assign 0 to our betas to initialize them\n",
    "beta0 = 0.\n",
    "beta1 = 0.\n",
    "beta2 = 0."
   ]
  },
  {
   "cell_type": "markdown",
   "metadata": {},
   "source": [
    "To simplify our computations, let's define a function for our sigmoid computation"
   ]
  },
  {
   "cell_type": "code",
   "execution_count": 31,
   "metadata": {},
   "outputs": [],
   "source": [
    "def sigmoid(beta0, beta1, beta2, X1, X2):\n",
    "    \"\"\"\n",
    "    Input:\n",
    "    This function takes the beta parameters beta0, beta1, and beta2,\n",
    "    as well as X1 and X2 as inputs\n",
    "    \n",
    "    Output:\n",
    "    After having transformed the inputs into a real value between 0\n",
    "    and 1, the function will return said value that can be interpreted\n",
    "    as a probability\n",
    "    \"\"\"\n",
    "    prepared = beta0 + beta1*X1 + beta2*X2\n",
    "    prediction = 1/(1 + np.exp(-prepared))\n",
    "    return prediction"
   ]
  },
  {
   "cell_type": "markdown",
   "metadata": {},
   "source": [
    "Now, let's test that using our first training instance"
   ]
  },
  {
   "cell_type": "code",
   "execution_count": 34,
   "metadata": {},
   "outputs": [],
   "source": [
    "X1, X2, Y = list(data.iloc[0,:])"
   ]
  },
  {
   "cell_type": "code",
   "execution_count": 37,
   "metadata": {},
   "outputs": [
    {
     "name": "stdout",
     "output_type": "stream",
     "text": [
      "Our first prediction is 0.5\n"
     ]
    }
   ],
   "source": [
    "first_prediction = sigmoid(beta0, beta1, beta2, X1, X2)\n",
    "print(\"Our first prediction is {}\".format(first_prediction))"
   ]
  },
  {
   "cell_type": "markdown",
   "metadata": {},
   "source": [
    "#### Calculate New Coefficients"
   ]
  },
  {
   "cell_type": "code",
   "execution_count": 39,
   "metadata": {},
   "outputs": [],
   "source": [
    "def update_coefficients(beta0, beta1, beta2, X1, X2, Y, prediction):\n",
    "    \"\"\"\n",
    "    This function takes the training instance as well as the betas\n",
    "    and the previously calculated prediction to update the coefficients\n",
    "    \"\"\"\n",
    "    alpha = 0.3\n",
    "    bias_of_intercept = 1.0\n",
    "    beta0 = beta0 + alpha*(Y-prediction)*prediction*(1-prediction)*bias_of_intercept\n",
    "    beta1 = beta1 + alpha*(Y-prediction)*prediction*(1-prediction)*X1\n",
    "    beta2 = beta2 + alpha*(Y-prediction)*prediction*(1-prediction)*X2\n",
    "    \n",
    "    return beta0, beta1, beta2\n"
   ]
  },
  {
   "cell_type": "code",
   "execution_count": 40,
   "metadata": {},
   "outputs": [
    {
     "name": "stdout",
     "output_type": "stream",
     "text": [
      "Our updated parameters are:\n",
      "beta0: -0.0375\n",
      "beta1: -0.020980870585683948\n",
      "beta2: -0.03909196554528134\n"
     ]
    }
   ],
   "source": [
    "beta0, beta1, beta2 = update_coefficients(beta0, beta1, beta2, X1, X2, Y, first_prediction)\n",
    "print(\"Our updated parameters are:\\nbeta0: {}\\nbeta1: {}\\nbeta2: {}\".format(beta0, beta1, beta2))"
   ]
  },
  {
   "cell_type": "markdown",
   "metadata": {},
   "source": [
    "Now, we certainly aren't going to manually repeat that for all training instances/epochs. Therefore, let's write some code that'll do so for us."
   ]
  },
  {
   "cell_type": "code",
   "execution_count": 83,
   "metadata": {},
   "outputs": [],
   "source": [
    "def putting_it_together(epochs=1, learning_rate=0.3, cutoff=0.5):\n",
    "    \"\"\"\n",
    "    This function performs a stochastic gradient descent\n",
    "    and returns the final coefficients\n",
    "    \"\"\"\n",
    "    beta0 = 0.\n",
    "    beta1 = 0.\n",
    "    beta2 = 0.\n",
    "    bias_of_intercept = 1.0\n",
    "    alpha = learning_rate\n",
    "    \n",
    "\n",
    "    for i in range(1,epochs+1):\n",
    "        \n",
    "        correct_predictions = 0\n",
    "        print('\\nThis is epoch number {}:\\n'.format(i), '-'*60)\n",
    "        \n",
    "        for n in range(len(data.X1)):\n",
    "\n",
    "            X1 = data.iloc[n,0]\n",
    "            X2 = data.iloc[n,1]\n",
    "            Y = data.iloc[n,2]\n",
    "\n",
    "            prediction = sigmoid(beta0, beta1, beta2, X1, X2)\n",
    "\n",
    "            beta0, beta1, beta2 = update_coefficients(beta0, beta1, beta2, X1, X2, Y, prediction)\n",
    "            \n",
    "            if prediction < cutoff:\n",
    "                class_ = 0\n",
    "            else:\n",
    "                class_ = 1\n",
    "                \n",
    "            if class_ == Y:\n",
    "                correct_predictions+=1\n",
    "            else:\n",
    "                continue\n",
    "\n",
    "            print('(Instance Number {}) Beta0: {:.3f}, Beta1: {:.3f}, Beta2: {:.3f}, prediction: {}, class: {}, actual class: {}'.format(n+1, beta0, beta1, beta2, prediction, class_, Y))\n",
    "        \n",
    "        accuracy = (correct_predictions/len(data.X1))*100\n",
    "        print('\\nAccuracy of this epoch: {}%\\n'.format(accuracy), '-'*60)\n",
    "    return beta0, beta1, beta2\n"
   ]
  },
  {
   "cell_type": "code",
   "execution_count": 84,
   "metadata": {},
   "outputs": [
    {
     "name": "stdout",
     "output_type": "stream",
     "text": [
      "\n",
      "This is epoch number 1:\n",
      " ------------------------------------------------------------\n",
      "(Instance Number 1) Beta0: -0.037, Beta1: -0.021, Beta2: -0.039, prediction: 0.5, class: 0, actual class: 0\n",
      "(Instance Number 2) Beta0: -0.074, Beta1: -0.010, Beta2: -0.035, prediction: 0.49318256187851595, class: 0, actual class: 0\n",
      "(Instance Number 3) Beta0: -0.110, Beta1: 0.030, Beta2: -0.061, prediction: 0.4777504730569901, class: 0, actual class: 0\n",
      "(Instance Number 4) Beta0: -0.144, Beta1: 0.069, Beta2: -0.078, prediction: 0.45645333162008134, class: 0, actual class: 0\n",
      "(Instance Number 5) Beta0: -0.181, Beta1: 0.104, Beta2: -0.008, prediction: 0.48480217726825375, class: 0, actual class: 0\n",
      "(Instance Number 6) Beta0: -0.148, Beta1: 0.239, Beta2: 0.003, prediction: 0.5623015703558849, class: 1, actual class: 1\n",
      "(Instance Number 7) Beta0: -0.130, Beta1: 0.317, Beta2: 0.018, prediction: 0.709114917067449, class: 1, actual class: 1\n",
      "(Instance Number 8) Beta0: -0.121, Beta1: 0.361, Beta2: 0.006, prediction: 0.8095023471228494, class: 1, actual class: 1\n",
      "(Instance Number 9) Beta0: -0.099, Beta1: 0.410, Beta2: 0.063, prediction: 0.661298222653969, class: 1, actual class: 1\n",
      "(Instance Number 10) Beta0: -0.094, Beta1: 0.433, Beta2: 0.070, prediction: 0.8608443171411484, class: 1, actual class: 1\n",
      "\n",
      "Accuracy of this epoch: 100.0%\n",
      " ------------------------------------------------------------\n"
     ]
    },
    {
     "data": {
      "text/plain": [
       "(-0.09365218577751816, 0.4327485087356591, 0.06966238871399635)"
      ]
     },
     "execution_count": 84,
     "metadata": {},
     "output_type": "execute_result"
    }
   ],
   "source": [
    "putting_it_together(cutoff = 0.51)"
   ]
  },
  {
   "cell_type": "markdown",
   "metadata": {},
   "source": [
    "Done! After slighty adjusting the cut-off probability, we manage to achieve 100% accuracy, where $Accuracy = (Correct Predictions/Total Predictions) * 100$"
   ]
  },
  {
   "cell_type": "code",
   "execution_count": null,
   "metadata": {},
   "outputs": [],
   "source": []
  }
 ],
 "metadata": {
  "kernelspec": {
   "display_name": "Python 3",
   "language": "python",
   "name": "python3"
  },
  "language_info": {
   "codemirror_mode": {
    "name": "ipython",
    "version": 3
   },
   "file_extension": ".py",
   "mimetype": "text/x-python",
   "name": "python",
   "nbconvert_exporter": "python",
   "pygments_lexer": "ipython3",
   "version": "3.6.5"
  }
 },
 "nbformat": 4,
 "nbformat_minor": 2
}
